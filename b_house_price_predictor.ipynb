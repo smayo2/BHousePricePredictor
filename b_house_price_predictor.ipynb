{
  "nbformat": 4,
  "nbformat_minor": 0,
  "metadata": {
    "colab": {
      "name": "b_house_price_predictor.ipynb",
      "version": "0.3.2",
      "provenance": [],
      "collapsed_sections": [],
      "include_colab_link": true
    },
    "kernelspec": {
      "name": "python3",
      "display_name": "Python 3"
    }
  },
  "cells": [
    {
      "cell_type": "markdown",
      "metadata": {
        "id": "view-in-github",
        "colab_type": "text"
      },
      "source": [
        "<a href=\"https://colab.research.google.com/github/smayo2/BHousePricePredictor/blob/master/b_house_price_predictor.ipynb\" target=\"_parent\"><img src=\"https://colab.research.google.com/assets/colab-badge.svg\" alt=\"Open In Colab\"/></a>"
      ]
    },
    {
      "cell_type": "code",
      "metadata": {
        "id": "Bx9yg_gsXcbv",
        "colab_type": "code",
        "colab": {}
      },
      "source": [
        ""
      ],
      "execution_count": 0,
      "outputs": []
    },
    {
      "cell_type": "markdown",
      "metadata": {
        "id": "ABKjnZMNnm1Z",
        "colab_type": "text"
      },
      "source": [
        "\n",
        "\n",
        "Predict price of house given a  list of relevant features \n"
      ]
    },
    {
      "cell_type": "code",
      "metadata": {
        "id": "8X_DHvNdnogh",
        "colab_type": "code",
        "colab": {}
      },
      "source": [
        " # -*- coding: utf-8 -*-\n",
        "\"\"\"\n",
        "First created on Wed May  8 22:12:39 2019\n",
        "@author smayo2\n",
        "\"\"\"\n",
        "\n",
        "from sklearn.ensemble import RandomForestRegressor \n",
        "from sklearn.tree import DecisionTreeRegressor\n",
        "from sklearn.model_selection import train_test_split, cross_val_score,GridSearchCV,KFold\n",
        "from sklearn.metrics import accuracy_score, mean_squared_error\n",
        "from sklearn.preprocessing import OneHotEncoder\n",
        "import pandas as pd\n",
        "import pandas_profiling\n",
        "import numpy as np\n",
        "import xgboost as xgb\n",
        "import warnings\n",
        "#%matplotlibe inline\n",
        "%matplotlib inline\n",
        "import matplotlib.pyplot as plt\n"
      ],
      "execution_count": 0,
      "outputs": []
    },
    {
      "cell_type": "code",
      "metadata": {
        "id": "foYWnHjWVcQC",
        "colab_type": "code",
        "outputId": "afcbb473-6381-419c-bb2b-b7294a8683fc",
        "colab": {
          "base_uri": "https://localhost:8080/",
          "height": 340
        }
      },
      "source": [
        "#Specify some inputs\n",
        "target_var = 'MEDV'\n",
        "\n",
        "col_names = ['CRIM','ZN','INDUS','CHAS','NOX','RM','AGE','DIS','RAD','TAX','PTRATIO','B','LSTAT','MEDV']\n",
        "\n",
        "#read data file\n",
        "#data source: 'https://archive.ics.uci.edu/ml/machine-learning-databases/housing/housing.data'\n",
        "data_file = 'https://raw.githubusercontent.com/smayo2/BHousePricePredictor/master/datasets/housing.data'\n",
        "df = pd.read_csv(data_file, header=None,names=col_names,delim_whitespace =True)\n",
        "\n",
        "#get info about data\n",
        "print(df.head())\n",
        "#print(df.info())\n",
        "print(df.describe())\n",
        "\n",
        "# Pandas profiling (detailed) \n",
        "#pandas_profiling.ProfileReport(df)"
      ],
      "execution_count": 2,
      "outputs": [
        {
          "output_type": "stream",
          "text": [
            "      CRIM    ZN  INDUS  CHAS    NOX  ...    TAX  PTRATIO       B  LSTAT  MEDV\n",
            "0  0.00632  18.0   2.31     0  0.538  ...  296.0     15.3  396.90   4.98  24.0\n",
            "1  0.02731   0.0   7.07     0  0.469  ...  242.0     17.8  396.90   9.14  21.6\n",
            "2  0.02729   0.0   7.07     0  0.469  ...  242.0     17.8  392.83   4.03  34.7\n",
            "3  0.03237   0.0   2.18     0  0.458  ...  222.0     18.7  394.63   2.94  33.4\n",
            "4  0.06905   0.0   2.18     0  0.458  ...  222.0     18.7  396.90   5.33  36.2\n",
            "\n",
            "[5 rows x 14 columns]\n",
            "             CRIM          ZN       INDUS  ...           B       LSTAT        MEDV\n",
            "count  506.000000  506.000000  506.000000  ...  506.000000  506.000000  506.000000\n",
            "mean     3.613524   11.363636   11.136779  ...  356.674032   12.653063   22.532806\n",
            "std      8.601545   23.322453    6.860353  ...   91.294864    7.141062    9.197104\n",
            "min      0.006320    0.000000    0.460000  ...    0.320000    1.730000    5.000000\n",
            "25%      0.082045    0.000000    5.190000  ...  375.377500    6.950000   17.025000\n",
            "50%      0.256510    0.000000    9.690000  ...  391.440000   11.360000   21.200000\n",
            "75%      3.677082   12.500000   18.100000  ...  396.225000   16.955000   25.000000\n",
            "max     88.976200  100.000000   27.740000  ...  396.900000   37.970000   50.000000\n",
            "\n",
            "[8 rows x 14 columns]\n"
          ],
          "name": "stdout"
        }
      ]
    },
    {
      "cell_type": "code",
      "metadata": {
        "id": "4mP7bwg3XfdP",
        "colab_type": "code",
        "outputId": "5368f17b-6a61-4293-94a1-c77b6adcd81e",
        "colab": {
          "base_uri": "https://localhost:8080/",
          "height": 431
        }
      },
      "source": [
        "#separate data into input and target data\n",
        "X= df.drop([target_var],axis=1)\n",
        "\n",
        "#last column is target class\n",
        "y= df.iloc[:,-1]\n",
        "\n",
        "#split data into test and train data#\n",
        "X_train, X_test, y_train, y_test = train_test_split(X, y, test_size=.2, random_state=32)\n",
        "\n",
        "\n",
        "########################################################\n",
        "#First predictor\n",
        "#clf = DecisionTreeRegressor(random_state=1)\n",
        "clf = RandomForestRegressor(n_estimators=5, random_state=1)\n",
        "#clf.fit(X_train,y_train)\n",
        "scores = cross_val_score(clf, X_train,y_train, cv=5) \n",
        "clf.fit(X_train,y_train)\n",
        "y_pred = clf.predict(X_test)\n",
        "pred_score = mean_squared_error(y_test, y_pred)\n",
        "\n",
        "################################\n",
        "# Compare with second method\n",
        "warnings.simplefilter(action='ignore', category=Warning) #issue with version of Pandas used in XGB\n",
        "\n",
        "clf2 = xgb.XGBRegressor(objective='reg:squarederror', max_depth=10, n_estimators=500)\n",
        "scores2 = cross_val_score(clf2, X_train,y_train, cv=5) \n",
        "clf2.fit(X_train,y_train)\n",
        "y_pred2 = clf2.predict(X_test)\n",
        "pred_score2 = mean_squared_error(y_test, y_pred2)\n",
        "\n",
        "#plot of important features \n",
        "xgb.plot_importance(clf2)\n",
        "plt.rcParams['figure.figsize'] = [5, 5]\n",
        "plt.show()\n",
        "\n",
        "#print results\n",
        "print('mean validation score for method 1:', scores.mean())\n",
        "print('mean validation score for method 2: ', scores2.mean())\n",
        "print('Mean squared error for method 1:', pred_score)\n",
        "print('Mean squared error for method 2: ', pred_score2)\n",
        "\n",
        "#do Grid search for best parameters\n",
        "                    'n_estimators': [500,1000,2000\n",
        "\n",
        "grid_xgb = GridSearchCV(xgb.XGBRegressor(objective='reg:squarederror'),\n",
        "                   {'max_depth': [2,4,6],]},verbose=0, cv=5)\n",
        "grid_xgb.fit(X_train,y_train)\n",
        "print('\\n SCORE FOR XGBOOST:')    \n",
        "print(grid_xgb.best_score_)\n",
        "print(grid_xgb.best_params_)\n",
        "\n",
        "#Ref\n",
        "#https://www.datacamp.com/community/tutorials/xgboost-in-python\n",
        "#https://github.com/dmlc/xgboost/blob/master/demo/guide-python/sklearn_examples.py"
      ],
      "execution_count": 3,
      "outputs": [
        {
          "output_type": "display_data",
          "data": {
            "image/png": "[encoded data removed]",
            "text/plain": [
              "<Figure size 432x288 with 1 Axes>"
            ]
          },
          "metadata": {
            "tags": []
          }
        },
        {
          "output_type": "stream",
          "text": [
            "mean validation score for method 1: 0.8343444542759251\n",
            "mean validation score for method 2:  0.8681733098894625\n",
            "Mean squared error for method 1: 17.28085882352941\n",
            "Mean squared error for method 2:  10.06459658056285\n",
            "\n",
            " SCORE FOR XGBOOST:\n",
            "0.8738494903904317\n",
            "{'max_depth': 4, 'n_estimators': 1000}\n"
          ],
          "name": "stdout"
        }
      ]
    }
  ]
}