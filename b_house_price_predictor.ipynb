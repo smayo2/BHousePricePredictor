{
  "nbformat": 4,
  "nbformat_minor": 0,
  "metadata": {
    "colab": {
      "name": "b_house_price_predictor.ipynb",
      "version": "0.3.2",
      "provenance": [],
      "collapsed_sections": [],
      "include_colab_link": true
    },
    "kernelspec": {
      "name": "python3",
      "display_name": "Python 3"
    }
  },
  "cells": [
    {
      "cell_type": "markdown",
      "metadata": {
        "id": "view-in-github",
        "colab_type": "text"
      },
      "source": [
        "<a href=\"https://colab.research.google.com/github/smayo2/BHousePricePredictor/blob/master/b_house_price_predictor.ipynb\" target=\"_parent\"><img src=\"https://colab.research.google.com/assets/colab-badge.svg\" alt=\"Open In Colab\"/></a>"
      ]
    },
    {
      "cell_type": "code",
      "metadata": {
        "id": "Bx9yg_gsXcbv",
        "colab_type": "code",
        "colab": {}
      },
      "source": [
        ""
      ],
      "execution_count": 0,
      "outputs": []
    },
    {
      "cell_type": "markdown",
      "metadata": {
        "id": "ABKjnZMNnm1Z",
        "colab_type": "text"
      },
      "source": [
        "Predict price of house \n",
        "\n"
      ]
    },
    {
      "cell_type": "code",
      "metadata": {
        "id": "8X_DHvNdnogh",
        "colab_type": "code",
        "colab": {}
      },
      "source": [
        " # -*- coding: utf-8 -*-\n",
        "\"\"\"\n",
        "First created on Wed May  8 22:12:39 2019\n",
        "\n",
        "@author smayo2\n",
        "\"\"\"\n",
        "\n",
        "from sklearn.ensemble import RandomForestRegressor \n",
        "from sklearn.tree import DecisionTreeRegressor\n",
        "from sklearn.model_selection import train_test_split\n",
        "from sklearn.model_selection import cross_val_score\n",
        "from sklearn.metrics import accuracy_score\n",
        "from sklearn.preprocessing import OneHotEncoder\n",
        "\n",
        "import pandas as pd\n"
      ],
      "execution_count": 0,
      "outputs": []
    },
    {
      "cell_type": "code",
      "metadata": {
        "id": "foYWnHjWVcQC",
        "colab_type": "code",
        "outputId": "99568bb3-9c9f-418d-a3be-140b2a6f0a37",
        "colab": {
          "base_uri": "https://localhost:8080/",
          "height": 153
        }
      },
      "source": [
        "#Specify some inputs\n",
        "target_var = 'MEDV'\n",
        "\n",
        "col_names = ['CRIM','ZN','INDUS','CHAS','NOX','RM','AGE','DIS','RAD','TAX','PTRATIO','B','LSTAT','MEDV']\n",
        "#data_file = 'data/housing.data'\n",
        "data_file = 'https://archive.ics.uci.edu/ml/machine-learning-databases/housing/housing.data'\n",
        "\n",
        "#read data file\n",
        "df = pd.read_csv(data_file, header=None,names=col_names,delim_whitespace =True)\n",
        "\n",
        "#get info about data\n",
        "print(df.head())\n",
        "#print(df.info())\n",
        "#print(df.describe())"
      ],
      "execution_count": 0,
      "outputs": [
        {
          "output_type": "stream",
          "text": [
            "      CRIM    ZN  INDUS  CHAS    NOX  ...    TAX  PTRATIO       B  LSTAT  MEDV\n",
            "0  0.00632  18.0   2.31     0  0.538  ...  296.0     15.3  396.90   4.98  24.0\n",
            "1  0.02731   0.0   7.07     0  0.469  ...  242.0     17.8  396.90   9.14  21.6\n",
            "2  0.02729   0.0   7.07     0  0.469  ...  242.0     17.8  392.83   4.03  34.7\n",
            "3  0.03237   0.0   2.18     0  0.458  ...  222.0     18.7  394.63   2.94  33.4\n",
            "4  0.06905   0.0   2.18     0  0.458  ...  222.0     18.7  396.90   5.33  36.2\n",
            "\n",
            "[5 rows x 14 columns]\n"
          ],
          "name": "stdout"
        }
      ]
    },
    {
      "cell_type": "code",
      "metadata": {
        "id": "4mP7bwg3XfdP",
        "colab_type": "code",
        "outputId": "a03e5ff0-8227-42ce-c71b-ec74738f7ce5",
        "colab": {
          "base_uri": "https://localhost:8080/",
          "height": 85
        }
      },
      "source": [
        "#separate data into input and target data\n",
        "X= df.drop([target_var],axis=1)\n",
        "\n",
        "#last column is target class\n",
        "y= df.iloc[:,-1]\n",
        "\n",
        "#split data into test and train data#\n",
        "X_train, X_test, y_train, y_test = train_test_split(X, y, test_size=.2, random_state=32)\n",
        "\n",
        "#First predictor\n",
        "clf = DecisionTreeRegressor(random_state=1)\n",
        "#clf.fit(X_train,y_train)\n",
        "scores = cross_val_score(clf, X_train,y_train, cv=10) \n",
        "clf.fit(X_train,y_train)\n",
        "y_pred = clf.predict(X_test)\n",
        "pred_score = clf.score(X_test,y_test)\n",
        "\n",
        "# Compare with second method\n",
        "clf2 = RandomForestRegressor(n_estimators=100, random_state=1)\n",
        "scores2 = cross_val_score(clf2, X_train,y_train, cv=10) \n",
        "clf2.fit(X_train,y_train)\n",
        "y_pred2 = clf2.predict(X_test)\n",
        "pred_score2 = clf2.score(X_test,y_test)\n",
        "\n",
        "#print results\n",
        "print('mean validation score for method 1', scores.mean())\n",
        "print('mean validation score for method 2: ', scores2.mean())\n",
        "print('Test scores for method 1', pred_score)\n",
        "print('Test scores for method 2: ', pred_score2)\n"
      ],
      "execution_count": 0,
      "outputs": [
        {
          "output_type": "stream",
          "text": [
            "mean validation score for method 1 0.7292391463697632\n",
            "mean validation score for method 2:  0.8753610290595903\n",
            "Test scores for method 1 0.8040519278790772\n",
            "Test scores for method 2:  0.8556936407927156\n"
          ],
          "name": "stdout"
        }
      ]
    }
  ]
}